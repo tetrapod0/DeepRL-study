{
 "cells": [
  {
   "cell_type": "code",
   "execution_count": 173,
   "id": "c58b359b-270c-4258-b687-94a357439d8d",
   "metadata": {},
   "outputs": [],
   "source": [
    "import gymnasium as gym\n",
    "\n",
    "import numpy as np\n",
    "import torch\n",
    "import torch.nn as nn\n",
    "import torch.nn.functional as F\n",
    "import torch.optim as optim\n",
    "from torch.distributions import Categorical"
   ]
  },
  {
   "cell_type": "code",
   "execution_count": 202,
   "id": "72f04643-4f8a-42f9-9d21-bef8daa9bb05",
   "metadata": {},
   "outputs": [
    {
     "name": "stdout",
     "output_type": "stream",
     "text": [
      "tensor([0.0059, 0.1185, 0.8756])\n",
      "tensor(2)\n",
      "tensor(2)\n"
     ]
    },
    {
     "name": "stderr",
     "output_type": "stream",
     "text": [
      "C:\\Users\\User\\AppData\\Local\\Temp\\ipykernel_9580\\2339320064.py:2: UserWarning: Implicit dimension choice for softmax has been deprecated. Change the call to include dim=X as an argument.\n",
      "  bbb = F.softmax(aaa)\n"
     ]
    }
   ],
   "source": [
    "aaa = torch.tensor([-2, 1, 3], dtype=torch.float32)\n",
    "bbb = F.softmax(aaa)\n",
    "print(bbb)\n",
    "m = Categorical(bbb)\n",
    "n = Categorical(logits=aaa, )\n",
    "print(m.sample())\n",
    "print(n.sample())"
   ]
  },
  {
   "cell_type": "code",
   "execution_count": 178,
   "id": "b490f07d-1697-4c84-bf1a-59a8aaf91753",
   "metadata": {},
   "outputs": [],
   "source": [
    "device = torch.device(\"cuda:0\" if torch.cuda.is_available() else \"cpu\")"
   ]
  },
  {
   "cell_type": "code",
   "execution_count": 83,
   "id": "61321652-e121-4171-bd6b-23471cfd00b4",
   "metadata": {},
   "outputs": [],
   "source": [
    "env_id = \"CartPole-v1\"\n",
    "env = gym.make(env_id)\n",
    "eval_env = gym.make(env_id, render_mode='rgb_array')\n",
    "\n",
    "s_size = env.observation_space.shape[0]\n",
    "a_size = int(env.action_space.n)"
   ]
  },
  {
   "cell_type": "code",
   "execution_count": 115,
   "id": "00352d37-beba-48fb-b14e-3548ca6b6274",
   "metadata": {},
   "outputs": [],
   "source": [
    "class Policy(nn.Module):\n",
    "    def __init__(self, s_size, a_size, h_size):\n",
    "        super(Policy, self).__init__()\n",
    "        self.fc1 = nn.Linear(s_size, h_size)\n",
    "        self.fc2 = nn.Linear(h_size, a_size)\n",
    "\n",
    "    def forward(self, x):\n",
    "        x = F.relu(self.fc1(x))\n",
    "        x = self.fc2(x)\n",
    "        return F.softmax(x, dim=1)\n",
    "\n",
    "    def act(self, state):\n",
    "        state = torch.from_numpy(state).float().unsqueeze(0).to(device)\n",
    "        probs = self.forward(state).cpu()\n",
    "        m = Categorical(probs)\n",
    "        action = m.sample()\n",
    "        return action.item(), m.log_prob(action)"
   ]
  },
  {
   "cell_type": "code",
   "execution_count": 167,
   "id": "dd6119a3-27d8-4086-a3a0-b75b306eb6c2",
   "metadata": {},
   "outputs": [],
   "source": [
    "model = Policy(s_size, a_size, 16).to(device)\n",
    "optimizer = optim.Adam(model.parameters(), lr=1e-2)"
   ]
  },
  {
   "cell_type": "code",
   "execution_count": 168,
   "id": "5adb3a8d-dc5a-4adc-afb0-a25803989138",
   "metadata": {},
   "outputs": [
    {
     "name": "stdout",
     "output_type": "stream",
     "text": [
      "Episode 100\tAverage Score: 18.00\n",
      "Episode 200\tAverage Score: 20.00\n",
      "Episode 300\tAverage Score: 53.00\n",
      "Episode 400\tAverage Score: 93.00\n",
      "Episode 500\tAverage Score: 97.00\n",
      "Episode 600\tAverage Score: 57.00\n",
      "Episode 700\tAverage Score: 41.00\n",
      "Episode 800\tAverage Score: 43.00\n",
      "Episode 900\tAverage Score: 87.00\n",
      "Episode 1000\tAverage Score: 77.00\n"
     ]
    }
   ],
   "source": [
    "from torch.utils.data import Dataset, DataLoader\n",
    "\n",
    "# recode = []\n",
    "for episode in range(1000):\n",
    "    log_prob_list = []\n",
    "    tot_reward = 0\n",
    "    state, _ = env.reset()\n",
    "    for t in range(1000):\n",
    "        action, log_prob = model.act(state)\n",
    "        state, reward, terminated, truncated, _ = env.step(action)\n",
    "        # reward -= np.square(state[0])*1\n",
    "\n",
    "        tot_reward += 1\n",
    "        log_prob_list.append(log_prob)\n",
    "        \n",
    "        if terminated or truncated:\n",
    "            break\n",
    "\n",
    "    loss = - torch.cat(log_prob_list).sum() * (tot_reward**1)\n",
    "    loss.backward()\n",
    "    if (episode+1) % 10 == 0:\n",
    "        optimizer.step()\n",
    "        optimizer.zero_grad()\n",
    "\n",
    "    \n",
    "    \n",
    "    if (episode+1) % 100 == 0:\n",
    "        print('Episode {}\\tAverage Score: {:.2f}'.format(episode+1, tot_reward))"
   ]
  },
  {
   "cell_type": "code",
   "execution_count": null,
   "id": "81d76c8f-5938-40cc-9ab8-dae2a8677e37",
   "metadata": {},
   "outputs": [],
   "source": []
  },
  {
   "cell_type": "code",
   "execution_count": 121,
   "id": "acb570f8-1c04-49aa-80be-59fb81a38367",
   "metadata": {},
   "outputs": [],
   "source": [
    "def evaluate_agent(env, max_steps, n_eval_episodes, policy):\n",
    "  \"\"\"\n",
    "  Evaluate the agent for ``n_eval_episodes`` episodes and returns average reward and std of reward.\n",
    "  :param env: The evaluation environment\n",
    "  :param n_eval_episodes: Number of episode to evaluate the agent\n",
    "  :param policy: The Reinforce agent\n",
    "  \"\"\"\n",
    "  episode_rewards = []\n",
    "  for episode in range(n_eval_episodes):\n",
    "    state, _ = env.reset()\n",
    "    step = 0\n",
    "    done = False\n",
    "    total_rewards_ep = 0\n",
    "\n",
    "    for step in range(max_steps):\n",
    "      action, _ = policy.act(state)\n",
    "      new_state, reward, terminated, truncated, info = env.step(action)\n",
    "      total_rewards_ep += reward\n",
    "\n",
    "      if terminated or truncated:\n",
    "        break\n",
    "      state = new_state\n",
    "    episode_rewards.append(total_rewards_ep)\n",
    "  mean_reward = np.mean(episode_rewards)\n",
    "  std_reward = np.std(episode_rewards)\n",
    "\n",
    "  return mean_reward, std_reward"
   ]
  },
  {
   "cell_type": "code",
   "execution_count": 164,
   "id": "6e351685-04ec-411a-9ec9-2842528c0cdb",
   "metadata": {},
   "outputs": [],
   "source": [
    "show_env = gym.make(env_id, render_mode='human')\n",
    "evaluate_agent(show_env,\n",
    "               1000,\n",
    "               5,\n",
    "               model)\n",
    "show_env.close()"
   ]
  },
  {
   "cell_type": "code",
   "execution_count": null,
   "id": "52add7bd-aa7e-4f7f-bdf5-e6c55b6d39e0",
   "metadata": {},
   "outputs": [],
   "source": []
  },
  {
   "cell_type": "code",
   "execution_count": 77,
   "id": "d35e62b8-7d86-40d5-91b8-fa44160a3997",
   "metadata": {},
   "outputs": [
    {
     "name": "stdout",
     "output_type": "stream",
     "text": [
      "[6, 5, 4, 3, 2, 1, 0.0]\n",
      "[6, 5, 4, 3, 2, 1, 0.5]\n",
      "[6, 5, 4, 3, 2, 1.0, 1]\n",
      "[6, 5, 4, 3, 2, 1.5, 1]\n",
      "[6, 5, 4, 3, 2.0, 2, 1]\n",
      "[6, 5, 4, 3, 2.5, 2, 1]\n",
      "[6, 5, 4, 3.0, 3, 2, 1]\n",
      "[6, 5, 4, 3.5, 3, 2, 1]\n",
      "[6, 5, 4.0, 4, 3, 2, 1]\n",
      "[6, 5, 4.5, 4, 3, 2, 1]\n",
      "[6, 5.0, 5, 4, 3, 2, 1]\n",
      "[6, 5.5, 5, 4, 3, 2, 1]\n",
      "[6.0, 6, 5, 4, 3, 2, 1]\n",
      "[6.5, 6, 5, 4, 3, 2, 1]\n"
     ]
    }
   ],
   "source": [
    "def sort_push(_list, value, key=lambda x:x, reverse=False):\n",
    "    start = 0\n",
    "    end = len(_list)\n",
    "\n",
    "    while end-start > 0:\n",
    "        mid = (end+start)//2\n",
    "        if (key(_list[mid]) <= key(value)) ^ reverse:\n",
    "            start = mid+1\n",
    "        else:\n",
    "            end = mid\n",
    "\n",
    "    _list.insert(end, value)\n",
    "    return _list\n",
    "        \n",
    "        \n",
    "\n",
    "print(sort_push([1,2,3,4,5,6][::-1], 0., reverse=True))\n",
    "print(sort_push([1,2,3,4,5,6][::-1], 0.5, reverse=True))\n",
    "print(sort_push([1,2,3,4,5,6][::-1], 1., reverse=True))\n",
    "print(sort_push([1,2,3,4,5,6][::-1], 1.5, reverse=True))\n",
    "print(sort_push([1,2,3,4,5,6][::-1], 2., reverse=True))\n",
    "print(sort_push([1,2,3,4,5,6][::-1], 2.5, reverse=True))\n",
    "print(sort_push([1,2,3,4,5,6][::-1], 3., reverse=True))\n",
    "print(sort_push([1,2,3,4,5,6][::-1], 3.5, reverse=True))\n",
    "print(sort_push([1,2,3,4,5,6][::-1], 4., reverse=True))\n",
    "print(sort_push([1,2,3,4,5,6][::-1], 4.5, reverse=True))\n",
    "print(sort_push([1,2,3,4,5,6][::-1], 5., reverse=True))\n",
    "print(sort_push([1,2,3,4,5,6][::-1], 5.5, reverse=True))\n",
    "print(sort_push([1,2,3,4,5,6][::-1], 6., reverse=True))\n",
    "print(sort_push([1,2,3,4,5,6][::-1], 6.5, reverse=True))"
   ]
  },
  {
   "cell_type": "code",
   "execution_count": 78,
   "id": "2d04a28f-1180-4da5-a58f-4bc6dfcf1bb9",
   "metadata": {},
   "outputs": [
    {
     "name": "stdout",
     "output_type": "stream",
     "text": [
      "[0.0, 1, 2, 3, 4, 5, 6]\n",
      "[0.5, 1, 2, 3, 4, 5, 6]\n",
      "[1, 1.0, 2, 3, 4, 5, 6]\n",
      "[1, 1.5, 2, 3, 4, 5, 6]\n",
      "[1, 2, 2.0, 3, 4, 5, 6]\n",
      "[1, 2, 2.5, 3, 4, 5, 6]\n",
      "[1, 2, 3, 3.0, 4, 5, 6]\n",
      "[1, 2, 3, 3.5, 4, 5, 6]\n",
      "[1, 2, 3, 4, 4.0, 5, 6]\n",
      "[1, 2, 3, 4, 4.5, 5, 6]\n",
      "[1, 2, 3, 4, 5, 5.0, 6]\n",
      "[1, 2, 3, 4, 5, 5.5, 6]\n",
      "[1, 2, 3, 4, 5, 6, 6.0]\n",
      "[1, 2, 3, 4, 5, 6, 6.5]\n"
     ]
    }
   ],
   "source": [
    "\n",
    "print(sort_push([1,2,3,4,5,6], 0.))\n",
    "print(sort_push([1,2,3,4,5,6], 0.5))\n",
    "print(sort_push([1,2,3,4,5,6], 1.))\n",
    "print(sort_push([1,2,3,4,5,6], 1.5))\n",
    "print(sort_push([1,2,3,4,5,6], 2.))\n",
    "print(sort_push([1,2,3,4,5,6], 2.5))\n",
    "print(sort_push([1,2,3,4,5,6], 3.))\n",
    "print(sort_push([1,2,3,4,5,6], 3.5))\n",
    "print(sort_push([1,2,3,4,5,6], 4.))\n",
    "print(sort_push([1,2,3,4,5,6], 4.5))\n",
    "print(sort_push([1,2,3,4,5,6], 5.))\n",
    "print(sort_push([1,2,3,4,5,6], 5.5))\n",
    "print(sort_push([1,2,3,4,5,6], 6.))\n",
    "print(sort_push([1,2,3,4,5,6], 6.5))"
   ]
  },
  {
   "cell_type": "code",
   "execution_count": null,
   "id": "f3d01612-7b88-4a46-88f9-b2d590c2d3cb",
   "metadata": {},
   "outputs": [],
   "source": []
  },
  {
   "cell_type": "code",
   "execution_count": null,
   "id": "c10517b8-9f2d-4396-a7b4-dbddb5ed1c5d",
   "metadata": {},
   "outputs": [],
   "source": []
  },
  {
   "cell_type": "code",
   "execution_count": null,
   "id": "cda0c5f9-d4e1-4d23-b539-77b47c9a3036",
   "metadata": {},
   "outputs": [],
   "source": []
  },
  {
   "cell_type": "code",
   "execution_count": null,
   "id": "f7d9b0ea-4ca5-42ce-a4a1-bd838cc5dc22",
   "metadata": {},
   "outputs": [],
   "source": []
  },
  {
   "cell_type": "code",
   "execution_count": null,
   "id": "b26227fd-f245-4f42-a226-e16787c6533e",
   "metadata": {},
   "outputs": [],
   "source": []
  },
  {
   "cell_type": "code",
   "execution_count": null,
   "id": "d2d560db-47b7-4def-84e2-8552a4129d95",
   "metadata": {},
   "outputs": [],
   "source": []
  },
  {
   "cell_type": "code",
   "execution_count": null,
   "id": "747dc1c7-1834-4d52-8ff3-71cd130dbdb8",
   "metadata": {},
   "outputs": [],
   "source": []
  },
  {
   "cell_type": "code",
   "execution_count": null,
   "id": "f5d5bd4e-dbad-4a37-bdbc-3da1ad0ef428",
   "metadata": {},
   "outputs": [],
   "source": []
  },
  {
   "cell_type": "code",
   "execution_count": null,
   "id": "f904e526-f4fc-4fe0-88d0-9c735e8133d0",
   "metadata": {},
   "outputs": [],
   "source": []
  },
  {
   "cell_type": "code",
   "execution_count": null,
   "id": "5aff337b-4d02-49be-bcad-8710fe1956ed",
   "metadata": {},
   "outputs": [],
   "source": []
  }
 ],
 "metadata": {
  "kernelspec": {
   "display_name": "Python 3 (ipykernel)",
   "language": "python",
   "name": "python3"
  },
  "language_info": {
   "codemirror_mode": {
    "name": "ipython",
    "version": 3
   },
   "file_extension": ".py",
   "mimetype": "text/x-python",
   "name": "python",
   "nbconvert_exporter": "python",
   "pygments_lexer": "ipython3",
   "version": "3.11.8"
  }
 },
 "nbformat": 4,
 "nbformat_minor": 5
}
